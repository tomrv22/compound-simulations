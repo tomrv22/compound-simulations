{
 "cells": [
  {
   "cell_type": "markdown",
   "id": "b66dfe45",
   "metadata": {},
   "source": [
    "#### Single simulation values"
   ]
  },
  {
   "cell_type": "code",
   "execution_count": 19,
   "id": "71065f0a",
   "metadata": {},
   "outputs": [
    {
     "data": {
      "application/vnd.jupyter.widget-view+json": {
       "model_id": "3f779047d3a34cbd8b3f34defaa6fa0b",
       "version_major": 2,
       "version_minor": 0
      },
      "text/plain": [
       "FloatText(value=0.0, description='Initial Investment:', style=DescriptionStyle(description_width='initial'))"
      ]
     },
     "metadata": {},
     "output_type": "display_data"
    },
    {
     "data": {
      "application/vnd.jupyter.widget-view+json": {
       "model_id": "39f6ba18cf474c19b027032faa29a39c",
       "version_major": 2,
       "version_minor": 0
      },
      "text/plain": [
       "FloatText(value=40000.0, description='Monthly Contribution:', style=DescriptionStyle(description_width='initia…"
      ]
     },
     "metadata": {},
     "output_type": "display_data"
    },
    {
     "data": {
      "application/vnd.jupyter.widget-view+json": {
       "model_id": "d082754366484d7d8c916c1ff071be0f",
       "version_major": 2,
       "version_minor": 0
      },
      "text/plain": [
       "IntText(value=20, description='Years of Investment:', style=DescriptionStyle(description_width='initial'))"
      ]
     },
     "metadata": {},
     "output_type": "display_data"
    },
    {
     "data": {
      "application/vnd.jupyter.widget-view+json": {
       "model_id": "a6f28b86250a4a4b859a71cd0f9f6858",
       "version_major": 2,
       "version_minor": 0
      },
      "text/plain": [
       "FloatText(value=0.0, description='Percent Hike (%):', style=DescriptionStyle(description_width='initial'))"
      ]
     },
     "metadata": {},
     "output_type": "display_data"
    },
    {
     "data": {
      "application/vnd.jupyter.widget-view+json": {
       "model_id": "edc6e4043db64969ad999adf13932422",
       "version_major": 2,
       "version_minor": 0
      },
      "text/plain": [
       "FloatText(value=12.0, description='Annual Growth Rate (%):', style=DescriptionStyle(description_width='initial…"
      ]
     },
     "metadata": {},
     "output_type": "display_data"
    },
    {
     "data": {
      "application/vnd.jupyter.widget-view+json": {
       "model_id": "c8158467d0c64b3fbdbb5623cad9f806",
       "version_major": 2,
       "version_minor": 0
      },
      "text/plain": [
       "FloatText(value=4.0, description='Growth Rate Std Dev (%):', style=DescriptionStyle(description_width='initial…"
      ]
     },
     "metadata": {},
     "output_type": "display_data"
    },
    {
     "data": {
      "application/vnd.jupyter.widget-view+json": {
       "model_id": "3cc985c08fc84280a998946179724e99",
       "version_major": 2,
       "version_minor": 0
      },
      "text/plain": [
       "FloatText(value=6.5, description='Inflation Rate (%):', style=DescriptionStyle(description_width='initial'))"
      ]
     },
     "metadata": {},
     "output_type": "display_data"
    },
    {
     "data": {
      "application/vnd.jupyter.widget-view+json": {
       "model_id": "b8f15e0e997a43108cdfc8c0ff1e6aa7",
       "version_major": 2,
       "version_minor": 0
      },
      "text/plain": [
       "FloatText(value=1.5, description='Inflation Rate Std Dev (%):', style=DescriptionStyle(description_width='init…"
      ]
     },
     "metadata": {},
     "output_type": "display_data"
    },
    {
     "data": {
      "application/vnd.jupyter.widget-view+json": {
       "model_id": "73ab970f30c14518b6c15d14848724e2",
       "version_major": 2,
       "version_minor": 0
      },
      "text/plain": [
       "FloatText(value=8.0, description='Conservative Growth Rate (%):', style=DescriptionStyle(description_width='in…"
      ]
     },
     "metadata": {},
     "output_type": "display_data"
    },
    {
     "data": {
      "application/vnd.jupyter.widget-view+json": {
       "model_id": "c4cdf072549848d58b5b089f30437a05",
       "version_major": 2,
       "version_minor": 0
      },
      "text/plain": [
       "FloatText(value=600000.0, description='Yearly Withdrawal:', style=DescriptionStyle(description_width='initial'…"
      ]
     },
     "metadata": {},
     "output_type": "display_data"
    },
    {
     "data": {
      "application/vnd.jupyter.widget-view+json": {
       "model_id": "e6da0efee62f4e599ccd197434da9952",
       "version_major": 2,
       "version_minor": 0
      },
      "text/plain": [
       "FloatText(value=1.0, description='Life style inflation (%):', style=DescriptionStyle(description_width='initia…"
      ]
     },
     "metadata": {},
     "output_type": "display_data"
    },
    {
     "data": {
      "application/vnd.jupyter.widget-view+json": {
       "model_id": "3f32e8e8b82e453c930b4bc1c85e5158",
       "version_major": 2,
       "version_minor": 0
      },
      "text/plain": [
       "Button(description='Calculate', style=ButtonStyle())"
      ]
     },
     "metadata": {},
     "output_type": "display_data"
    },
    {
     "data": {
      "application/vnd.jupyter.widget-view+json": {
       "model_id": "a1b18621fc7a4b2d91bb7b0136a040b4",
       "version_major": 2,
       "version_minor": 0
      },
      "text/plain": [
       "Output()"
      ]
     },
     "metadata": {},
     "output_type": "display_data"
    }
   ],
   "source": [
    "import numpy as np\n",
    "import ipywidgets as widgets\n",
    "from IPython.display import display, clear_output\n",
    "\n",
    "# Creating interactive widgets for dynamic input with adjusted layout and style\n",
    "style = {'description_width': 'initial'}  # Adjust the label width to fit the full description\n",
    "\n",
    "\n",
    "# Creating interactive widgets for dynamic input\n",
    "initial_inv = widgets.FloatText(value=0, description='Initial Investment:', style=style)\n",
    "monthly_con = widgets.FloatText(value=40000, description='Monthly Contribution:', style=style)\n",
    "n_inv = widgets.IntText(value=20, description='Years of Investment:', style=style)\n",
    "percent_hike = widgets.FloatText(value=0.00, description='Percent Hike (%):', style=style)\n",
    "\n",
    "rate = widgets.FloatText(value=12, description='Annual Growth Rate (%):', style=style)\n",
    "rate_std = widgets.FloatText(value=4, description='Growth Rate Std Dev (%):', style=style)\n",
    "\n",
    "inf_rate = widgets.FloatText(value=6.5, description='Inflation Rate (%):', style=style)\n",
    "inf_rate_std = widgets.FloatText(value=1.5, description='Inflation Rate Std Dev (%):', style=style)\n",
    "\n",
    "rate_cons = widgets.FloatText(value=8, description='Conservative Growth Rate (%):', style=style)\n",
    "year_amount_withdrawn = widgets.FloatText(value=600000, description='Yearly Withdrawal:', style=style)\n",
    "life_inf = widgets.FloatText(value=1, description='Life style inflation (%):', style=style)\n",
    "\n",
    "# Output widget for displaying results\n",
    "output = widgets.Output()\n",
    "\n",
    "# Displaying widgets\n",
    "display(initial_inv, monthly_con, n_inv, percent_hike, rate, rate_std, inf_rate, inf_rate_std, rate_cons, year_amount_withdrawn,life_inf)\n",
    "\n",
    "def calculate_investments(initial_inv, monthly_con, n_inv, percent_hike, rate, rate_std, inf_rate, inf_rate_std, rate_cons, year_amount_withdrawn,life_inf):\n",
    "    with output:\n",
    "        clear_output(wait=True)\n",
    "        \n",
    "        # Generate random rates and inflation\n",
    "        rate_list = np.random.normal(rate, rate_std, n_inv)\n",
    "        rate_list_pm = (pow(1 + rate_list / 100, 1 / 12) - 1) * 100  # Changing percentage rate into per month\n",
    "        inf_rate_list = np.random.normal(inf_rate, inf_rate_std, n_inv)\n",
    "\n",
    "        for x in range(n_inv):\n",
    "            year_amount_withdrawn = year_amount_withdrawn * (1 + inf_rate_list[x] / 100)\n",
    "        print('Your monthly expense at the end of', n_inv, 'years will be', year_amount_withdrawn / 12)\n",
    "\n",
    "        print(\"Average inflation rate for this simulation is\", inf_rate_list.mean())\n",
    "        print(\"Average growth rate for this simulation is\", rate_list.mean())\n",
    "\n",
    "        total = initial_inv\n",
    "        for i in range(n_inv):\n",
    "            monthly_con = monthly_con * (1 + percent_hike/100)\n",
    "\n",
    "            for j in range(12):\n",
    "                total = (total + monthly_con) * (1 + rate_list_pm[i] / 100)\n",
    "\n",
    "        total_investment = monthly_con * 12 * n_inv + initial_inv\n",
    "        print('Total amount invested -', total_investment)\n",
    "        print('Total amount in investments -', total)\n",
    "        print('Latest monthly contribution -', monthly_con)\n",
    "\n",
    "        years_covered = 0\n",
    "        while total > 0:\n",
    "            total = total - year_amount_withdrawn\n",
    "            total = total * (1 + rate_cons / 100)\n",
    "            year_amount_withdrawn = year_amount_withdrawn * (1 + np.random.normal(inf_rate, inf_rate_std) / 100)*(1+life_inf/100)\n",
    "            years_covered += 1\n",
    "\n",
    "        print(\"Total years before exhaustion\", years_covered)\n",
    "\n",
    "# Button to execute the calculation\n",
    "calc_button = widgets.Button(description=\"Calculate\")\n",
    "\n",
    "def on_button_click(b):\n",
    "    calculate_investments(\n",
    "        initial_inv.value, monthly_con.value, n_inv.value, percent_hike.value,\n",
    "        rate.value, rate_std.value, inf_rate.value, inf_rate_std.value,\n",
    "        rate_cons.value, year_amount_withdrawn.value,life_inf.value\n",
    "    )\n",
    "\n",
    "calc_button.on_click(on_button_click)\n",
    "\n",
    "# Display button and output widget\n",
    "display(calc_button, output)\n"
   ]
  },
  {
   "cell_type": "markdown",
   "id": "8bb7b445",
   "metadata": {},
   "source": [
    "#### N simulation values"
   ]
  },
  {
   "cell_type": "code",
   "execution_count": 20,
   "id": "14c91b6f",
   "metadata": {},
   "outputs": [
    {
     "data": {
      "application/vnd.jupyter.widget-view+json": {
       "model_id": "4937f776f9a44478a75e4a49f42b612d",
       "version_major": 2,
       "version_minor": 0
      },
      "text/plain": [
       "IntText(value=10000, description='Number of simulations:', style=DescriptionStyle(description_width='initial')…"
      ]
     },
     "metadata": {},
     "output_type": "display_data"
    },
    {
     "data": {
      "application/vnd.jupyter.widget-view+json": {
       "model_id": "b65121402ac7429a89acf69a472dba07",
       "version_major": 2,
       "version_minor": 0
      },
      "text/plain": [
       "FloatText(value=0.0, description='Initial Investment:', style=DescriptionStyle(description_width='initial'))"
      ]
     },
     "metadata": {},
     "output_type": "display_data"
    },
    {
     "data": {
      "application/vnd.jupyter.widget-view+json": {
       "model_id": "997ae069463a47eea1cda5d48a197316",
       "version_major": 2,
       "version_minor": 0
      },
      "text/plain": [
       "FloatText(value=40000.0, description='Monthly Contribution:', style=DescriptionStyle(description_width='initia…"
      ]
     },
     "metadata": {},
     "output_type": "display_data"
    },
    {
     "data": {
      "application/vnd.jupyter.widget-view+json": {
       "model_id": "119d19d9599e458f8d394571f598a5f1",
       "version_major": 2,
       "version_minor": 0
      },
      "text/plain": [
       "IntText(value=20, description='Years of Investment:', style=DescriptionStyle(description_width='initial'))"
      ]
     },
     "metadata": {},
     "output_type": "display_data"
    },
    {
     "data": {
      "application/vnd.jupyter.widget-view+json": {
       "model_id": "203cb8fe5ad747fab1868ff4df42f132",
       "version_major": 2,
       "version_minor": 0
      },
      "text/plain": [
       "FloatText(value=4.0, description='Percent Hike (%):', style=DescriptionStyle(description_width='initial'))"
      ]
     },
     "metadata": {},
     "output_type": "display_data"
    },
    {
     "data": {
      "application/vnd.jupyter.widget-view+json": {
       "model_id": "b292843dc1924764844d86bc6e3d5d62",
       "version_major": 2,
       "version_minor": 0
      },
      "text/plain": [
       "FloatText(value=12.0, description='Annual Growth Rate (%):', style=DescriptionStyle(description_width='initial…"
      ]
     },
     "metadata": {},
     "output_type": "display_data"
    },
    {
     "data": {
      "application/vnd.jupyter.widget-view+json": {
       "model_id": "e71d95073b9c4e8392b10780fae1479c",
       "version_major": 2,
       "version_minor": 0
      },
      "text/plain": [
       "FloatText(value=4.0, description='Growth Rate Std Dev (%):', style=DescriptionStyle(description_width='initial…"
      ]
     },
     "metadata": {},
     "output_type": "display_data"
    },
    {
     "data": {
      "application/vnd.jupyter.widget-view+json": {
       "model_id": "ccf373cc11e44a45a37902aca4fc410b",
       "version_major": 2,
       "version_minor": 0
      },
      "text/plain": [
       "FloatText(value=6.5, description='Inflation Rate (%):', style=DescriptionStyle(description_width='initial'))"
      ]
     },
     "metadata": {},
     "output_type": "display_data"
    },
    {
     "data": {
      "application/vnd.jupyter.widget-view+json": {
       "model_id": "4efefde678fe43329cb77c94f5b7fdc3",
       "version_major": 2,
       "version_minor": 0
      },
      "text/plain": [
       "FloatText(value=1.5, description='Inflation Rate Std Dev (%):', style=DescriptionStyle(description_width='init…"
      ]
     },
     "metadata": {},
     "output_type": "display_data"
    },
    {
     "data": {
      "application/vnd.jupyter.widget-view+json": {
       "model_id": "eb723211a77f4bc38a5356fe2afe4dc7",
       "version_major": 2,
       "version_minor": 0
      },
      "text/plain": [
       "FloatText(value=8.0, description='Conservative Growth Rate (%):', style=DescriptionStyle(description_width='in…"
      ]
     },
     "metadata": {},
     "output_type": "display_data"
    },
    {
     "data": {
      "application/vnd.jupyter.widget-view+json": {
       "model_id": "16005de5e1cc4dc3a5dde45243857f76",
       "version_major": 2,
       "version_minor": 0
      },
      "text/plain": [
       "FloatText(value=600000.0, description='Current Annual Expenses:', style=DescriptionStyle(description_width='in…"
      ]
     },
     "metadata": {},
     "output_type": "display_data"
    },
    {
     "data": {
      "application/vnd.jupyter.widget-view+json": {
       "model_id": "76f10d89b5e44ca7bdecced2698efe7e",
       "version_major": 2,
       "version_minor": 0
      },
      "text/plain": [
       "FloatText(value=1.0, description='Life style inflation (%):', style=DescriptionStyle(description_width='initia…"
      ]
     },
     "metadata": {},
     "output_type": "display_data"
    },
    {
     "data": {
      "application/vnd.jupyter.widget-view+json": {
       "model_id": "3f4dd9d1e53f41d6b3f6a677aa43b7a5",
       "version_major": 2,
       "version_minor": 0
      },
      "text/plain": [
       "Button(description='Calculate', style=ButtonStyle())"
      ]
     },
     "metadata": {},
     "output_type": "display_data"
    },
    {
     "data": {
      "application/vnd.jupyter.widget-view+json": {
       "model_id": "144f8a8e105341a59aac157f584da1b8",
       "version_major": 2,
       "version_minor": 0
      },
      "text/plain": [
       "Output()"
      ]
     },
     "metadata": {},
     "output_type": "display_data"
    }
   ],
   "source": [
    "import numpy as np\n",
    "import matplotlib.pyplot as plt\n",
    "import matplotlib.animation as animation\n",
    "from matplotlib import style\n",
    "import time\n",
    "import math\n",
    "from mpmath import mp\n",
    "from collections import deque\n",
    "from scipy.stats import norm\n",
    "import ipywidgets as widgets\n",
    "from IPython.display import display, clear_output\n",
    "\n",
    "# Creating interactive widgets for dynamic input with adjusted layout and style\n",
    "style = {'description_width': 'initial'}  # Adjust the label width to fit the full description\n",
    "\n",
    "\n",
    "# Creating interactive widgets for dynamic input\n",
    "N = widgets.IntText(value=10000, description='Number of simulations:', style=style)\n",
    "initial_inv = widgets.FloatText(value=0, description='Initial Investment:', style=style)\n",
    "monthly_sip = widgets.FloatText(value=40000, description='Monthly Contribution:', style=style)\n",
    "n_inv = widgets.IntText(value=20, description='Years of Investment:', style=style)\n",
    "percent_hike = widgets.FloatText(value=4, description='Percent Hike (%):', style=style)\n",
    "\n",
    "rate = widgets.FloatText(value=12, description='Annual Growth Rate (%):', style=style)\n",
    "rate_std = widgets.FloatText(value=4, description='Growth Rate Std Dev (%):', style=style)\n",
    "\n",
    "inf_rate = widgets.FloatText(value=6.5, description='Inflation Rate (%):', style=style)\n",
    "inf_rate_std = widgets.FloatText(value=1.5, description='Inflation Rate Std Dev (%):', style=style)\n",
    "\n",
    "rate_cons = widgets.FloatText(value=8, description='Conservative Growth Rate (%):', style=style)\n",
    "current_annual_exp = widgets.FloatText(value=600000, description='Current Annual Expenses:', style=style)\n",
    "life_inf = widgets.FloatText(value=1, description='Life style inflation (%):', style=style)\n",
    "\n",
    "# Output widget for displaying results\n",
    "output = widgets.Output()\n",
    "\n",
    "# Displaying widgets\n",
    "display(N,initial_inv, monthly_sip, n_inv, percent_hike, rate, rate_std, inf_rate, inf_rate_std, rate_cons, current_annual_exp,life_inf)\n",
    "\n",
    "def calculate_investments(N,initial_inv, monthly_sip, n_inv, percent_hike, rate, rate_std, inf_rate, inf_rate_std, rate_cons, current_annual_exp,life_inf):\n",
    "    with output:\n",
    "        clear_output(wait=True)\n",
    "        \n",
    "        simulation_list = deque()\n",
    "        \n",
    "        for _ in range(N):\n",
    "\n",
    "            year_amount_withdrawn = current_annual_exp\n",
    "            monthly_con = monthly_sip\n",
    "\n",
    "            rate_list = np.random.normal(rate,rate_std,n_inv)\n",
    "            rate_list_pm = (pow(1+rate_list/100, 1/12)-1)*100 #Changing percentage rate into per month\n",
    "\n",
    "            inf_rate_list = np.random.normal(inf_rate,inf_rate_std,n_inv)\n",
    "\n",
    "\n",
    "            for x in range(n_inv):\n",
    "                year_amount_withdrawn = year_amount_withdrawn*(1+inf_rate_list[x]/100)\n",
    "\n",
    "            # Initialize total with a larger value\n",
    "            total =  initial_inv\n",
    "            for i in range(n_inv):\n",
    "                monthly_con = monthly_con*(1+percent_hike/100)\n",
    "\n",
    "                for j in range(12):\n",
    "                    total = (total+monthly_con)*(1+rate_list_pm[i]/100)    \n",
    "\n",
    "        #     total_investment = monthly_con*12*n_inv+initial_inv\n",
    "\n",
    "            years_covered = 0\n",
    "            while total > 0:\n",
    "                skip = 0\n",
    "                if total > 1e308 or year_amount_withdrawn > 1e308:  # Example limit, adjust as needed\n",
    "                    skip = 1\n",
    "                    break\n",
    "                total = total - year_amount_withdrawn\n",
    "                total = total * (1 +  rate_cons/100)\n",
    "                year_amount_withdrawn = year_amount_withdrawn * (1 + np.random.normal(inf_rate, inf_rate_std)/100)*(1+life_inf/100)\n",
    "                years_covered += 1\n",
    "\n",
    "            if skip==0:    \n",
    "                simulation_list.append(years_covered)\n",
    "\n",
    "        simulation_list = np.array(simulation_list)\n",
    "\n",
    "        # # Generate a 1D numpy array (replace this with your own data)\n",
    "        data = simulation_list\n",
    "\n",
    "        # Plot the histogram\n",
    "        plt.hist(data, bins=30, density=True, alpha=0.6, color='g')\n",
    "\n",
    "        # Fit a normal distribution to the data\n",
    "        mu, std = norm.fit(data)\n",
    "        xmin, xmax = plt.xlim()\n",
    "        x = np.linspace(xmin, xmax, 100)\n",
    "        p = norm.pdf(x, mu, std)\n",
    "        plt.plot(x, p, 'k', linewidth=2)\n",
    "\n",
    "        # Add labels and a title\n",
    "        plt.title(\"Fit results: mu = %.2f,  std = %.2f\" % (mu, std))\n",
    "        plt.xlabel('Value')\n",
    "        plt.ylabel('Frequency')\n",
    "\n",
    "        # Show the plot\n",
    "        plt.show()\n",
    "\n",
    "        \n",
    "# Button to execute the calculation\n",
    "calc_button = widgets.Button(description=\"Calculate\")\n",
    "\n",
    "def on_button_click(b):\n",
    "    calculate_investments(\n",
    "        N.value,initial_inv.value, monthly_sip.value, n_inv.value, percent_hike.value,\n",
    "        rate.value, rate_std.value, inf_rate.value, inf_rate_std.value,\n",
    "        rate_cons.value, current_annual_exp.value,life_inf.value\n",
    "    )\n",
    "\n",
    "calc_button.on_click(on_button_click)\n",
    "\n",
    "# Display button and output widget\n",
    "display(calc_button, output)\n",
    "        "
   ]
  },
  {
   "cell_type": "markdown",
   "id": "1e081205",
   "metadata": {},
   "source": [
    "#### Simulate SWP Corpus movement LIVE"
   ]
  },
  {
   "cell_type": "code",
   "execution_count": null,
   "id": "1575c2e8",
   "metadata": {},
   "outputs": [],
   "source": [
    "import numpy as np\n",
    "import matplotlib.pyplot as plt\n",
    "import matplotlib.animation as animation\n",
    "from matplotlib import style\n",
    "import time\n",
    "import math\n",
    "import dash\n",
    "from dash.dependencies import Output, Input, State\n",
    "from dash import dcc\n",
    "from dash import html\n",
    "import plotly\n",
    "import random\n",
    "import plotly.graph_objs as go\n",
    "# Global variables for storing the state\n",
    "X = []\n",
    "Y = []\n",
    "total = 0\n",
    "years = 0\n",
    "simulation_running = False\n",
    "\n",
    "monthly_contribution = 0\n",
    "yearly_withdrawal = 0\n",
    "\n",
    "app = dash.Dash(__name__)\n",
    "\n",
    "app.layout = html.Div(\n",
    "    [\n",
    "        html.H1(\"Investment Growth Simulation\"),\n",
    "        html.Div([\n",
    "            html.Label(\"Initial Investment:\"),\n",
    "            dcc.Input(id='initial_inv', type='number', value=0, step=1000),\n",
    "        ]),\n",
    "        html.Div([\n",
    "            html.Label(\"Monthly Contribution:\"),\n",
    "            dcc.Input(id='monthly_con', type='number', value=50000, step=1000),\n",
    "        ]),\n",
    "        html.Div([\n",
    "            html.Label(\"Invest monthly for (years):\"),\n",
    "            dcc.Input(id='n_inv', type='number', value=20, step=1),\n",
    "        ]),\n",
    "        html.Div([\n",
    "            html.Label(\"Annual Contribution Hike (%):\"),\n",
    "            dcc.Input(id='percent_hike', type='number', value=4.0, step=0.1),\n",
    "        ]),\n",
    "        html.Div([\n",
    "            html.Label(\"Annual Rate of Return (%):\"),\n",
    "            dcc.Input(id='rate', type='number', value=12, step=0.1),\n",
    "        ]),\n",
    "        html.Div([\n",
    "            html.Label(\"Rate of return-Standard Deviation (%):\"),\n",
    "            dcc.Input(id='rate_std', type='number', value=4, step=0.1),\n",
    "        ]),\n",
    "        html.Div([\n",
    "            html.Label(\"Inflation Rate (%):\"),\n",
    "            dcc.Input(id='inf_rate', type='number', value=6.5, step=0.1),\n",
    "        ]),\n",
    "        html.Div([\n",
    "            html.Label(\"Inflation Rate Standard Deviation (%):\"),\n",
    "            dcc.Input(id='inf_rate_std', type='number', value=2.5, step=0.1),\n",
    "        ]),\n",
    "        html.Div([\n",
    "            html.Label(\"Conservative Growth Rate (after investment period) (%):\"),\n",
    "            dcc.Input(id='rate_cons', type='number', value=8, step=0.1),\n",
    "        ]),\n",
    "        html.Div([\n",
    "            html.Label(\"Initial Annual Withdrawal Amount:\"),\n",
    "            dcc.Input(id='year_amount_withdrawn', type='number', value=600000, step=10000),\n",
    "        ]),\n",
    "        html.Button('Start Simulation', id='start-button', n_clicks=0),\n",
    "        html.Button('Reset Simulation', id='reset-button', n_clicks=0),\n",
    "        dcc.Graph(id='live-graph', animate=True),\n",
    "        dcc.Interval(\n",
    "            id='graph-update',\n",
    "            interval=1*500,\n",
    "            n_intervals=0\n",
    "        ),\n",
    "    ]\n",
    ")\n",
    "\n",
    "@app.callback(\n",
    "    [Output('live-graph', 'figure'),\n",
    "     Output('start-button', 'n_clicks'),\n",
    "     Output('reset-button', 'n_clicks')],\n",
    "    [Input('graph-update', 'n_intervals'),\n",
    "     Input('start-button', 'n_clicks'),\n",
    "     Input('reset-button', 'n_clicks')],\n",
    "    [State('initial_inv', 'value'),\n",
    "     State('monthly_con', 'value'),\n",
    "     State('n_inv', 'value'),\n",
    "     State('percent_hike', 'value'),\n",
    "     State('rate', 'value'),\n",
    "     State('rate_std', 'value'),\n",
    "     State('inf_rate', 'value'),\n",
    "     State('inf_rate_std', 'value'),\n",
    "     State('rate_cons', 'value'),\n",
    "     State('year_amount_withdrawn', 'value')]\n",
    ")\n",
    "def update_graph_scatter(n_intervals, start_clicks, reset_clicks,\n",
    "                         initial_inv, monthly_con, n_inv, percent_hike,\n",
    "                         rate, rate_std, inf_rate, inf_rate_std,\n",
    "                         rate_cons, year_amount_withdrawn):\n",
    "    global X, Y, total, years, simulation_running, monthly_contribution, yearly_withdrawal\n",
    "    \n",
    "    if monthly_contribution == 0:\n",
    "        monthly_contribution = monthly_con\n",
    "    if yearly_withdrawal == 0:\n",
    "        yearly_withdrawal = year_amount_withdrawn\n",
    "    total_investment = initial_inv\n",
    "    \n",
    "    \n",
    "\n",
    "    ctx = dash.callback_context\n",
    "\n",
    "    if not ctx.triggered:\n",
    "        button_id = None\n",
    "        \n",
    "    else:\n",
    "        button_id = ctx.triggered[0]['prop_id'].split('.')[0]\n",
    "\n",
    "    if button_id == 'reset-button':\n",
    "        X.clear()\n",
    "        Y.clear()\n",
    "        total = 0\n",
    "        years = 0\n",
    "        yearly_withdrawal = 0\n",
    "        monthly_contribution = 0\n",
    "        simulation_running = False\n",
    "        return {'data': [], 'layout': go.Layout()}, 0, 0\n",
    "\n",
    "    if button_id == 'start-button' and not simulation_running:\n",
    "\n",
    "        total = initial_inv\n",
    "        years = 0\n",
    "        \n",
    "        rate_list = np.random.normal(rate,rate_std,n_inv)\n",
    "        rate_list_pm = (pow(1+rate_list/100, 1/12)-1)*100 #Changing percentage rate into per month\n",
    "        inf_rate_list = np.random.normal(inf_rate, inf_rate_std, n_inv)\n",
    "        \n",
    "            \n",
    "        for i in range(n_inv): \n",
    "            monthly_contribution = monthly_contribution*(1+percent_hike/100)\n",
    "            total_investment = total_investment + 12*monthly_contribution\n",
    "\n",
    "            for j in range(12): #Corpus growing\n",
    "                total = (total+monthly_contribution)*(1+rate_list_pm[i]/100)   \n",
    "\n",
    "        \n",
    "        for x in range(n_inv): #Finding the yearly withdrawal amaount at the end of investment period due to inflation\n",
    "            yearly_withdrawal = yearly_withdrawal*(1+inf_rate_list[x]/100)\n",
    "        \n",
    "        X.append(years)\n",
    "        Y.append(total)\n",
    "\n",
    "        simulation_running = True\n",
    "\n",
    "    if simulation_running:\n",
    "        while total > 0 :\n",
    "            \n",
    "            X.append(X[-1] + 1)\n",
    "            total = total - yearly_withdrawal\n",
    "            total = total*(1 + rate_cons/100)\n",
    "            Y.append(total)\n",
    "            yearly_withdrawal = yearly_withdrawal*(1+np.random.normal(inf_rate,inf_rate_std)/100) #yearly withdrawel keeps increasing with time\n",
    "            print(yearly_withdrawal)\n",
    "            print(total)\n",
    "\n",
    "\n",
    "            data = go.Scatter(\n",
    "                x=list(X),\n",
    "                y=list(Y),\n",
    "                name='Scatter',\n",
    "                mode='lines+markers'\n",
    "            )\n",
    "\n",
    "            return {'data': [data], 'layout': go.Layout(\n",
    "                xaxis=dict(rangeselector=dict(buttons=list([dict(step=\"all\")])),\n",
    "                           rangeslider=dict(visible=False)),\n",
    "                yaxis=dict(range=[0.83*min(Y), 1.2*max(Y)])\n",
    "            )}, 0, 0\n",
    "    \n",
    "    else:\n",
    "        return {'data': [], 'layout': go.Layout()}, 0, 0\n",
    "\n",
    "if __name__ == '__main__':\n",
    "    app.run_server(debug=False)\n"
   ]
  },
  {
   "cell_type": "markdown",
   "id": "08e333fe",
   "metadata": {},
   "source": [
    "#### Comparing differences between monthly and yearly SIP and Lump sum investing"
   ]
  },
  {
   "cell_type": "code",
   "execution_count": null,
   "id": "61ae9107",
   "metadata": {},
   "outputs": [],
   "source": []
  },
  {
   "cell_type": "code",
   "execution_count": 18,
   "id": "909627e2",
   "metadata": {},
   "outputs": [
    {
     "data": {
      "application/vnd.jupyter.widget-view+json": {
       "model_id": "487b26478c434b3fb4122901f1f62d0f",
       "version_major": 2,
       "version_minor": 0
      },
      "text/plain": [
       "FloatText(value=40000.0, description='Monthly Contribution:', style=DescriptionStyle(description_width='initia…"
      ]
     },
     "metadata": {},
     "output_type": "display_data"
    },
    {
     "data": {
      "application/vnd.jupyter.widget-view+json": {
       "model_id": "2ad32ba1ed77445bb744f7c908d9f0ba",
       "version_major": 2,
       "version_minor": 0
      },
      "text/plain": [
       "FloatText(value=480000.0, description='Yearly Contribution:', style=DescriptionStyle(description_width='initia…"
      ]
     },
     "metadata": {},
     "output_type": "display_data"
    },
    {
     "data": {
      "application/vnd.jupyter.widget-view+json": {
       "model_id": "64b74a7094e547ae84fab6e13283ff81",
       "version_major": 2,
       "version_minor": 0
      },
      "text/plain": [
       "FloatText(value=2500000.0, description='One time lump sum investment:', style=DescriptionStyle(description_wid…"
      ]
     },
     "metadata": {},
     "output_type": "display_data"
    },
    {
     "data": {
      "application/vnd.jupyter.widget-view+json": {
       "model_id": "ec7cf49bae194ec9807defb65984fda7",
       "version_major": 2,
       "version_minor": 0
      },
      "text/plain": [
       "IntText(value=20, description='Years of Investment:', style=DescriptionStyle(description_width='initial'))"
      ]
     },
     "metadata": {},
     "output_type": "display_data"
    },
    {
     "data": {
      "application/vnd.jupyter.widget-view+json": {
       "model_id": "45031aa2235349459d5333b4118bb077",
       "version_major": 2,
       "version_minor": 0
      },
      "text/plain": [
       "FloatText(value=1.5, description='Percent Hike (%):', style=DescriptionStyle(description_width='initial'))"
      ]
     },
     "metadata": {},
     "output_type": "display_data"
    },
    {
     "data": {
      "application/vnd.jupyter.widget-view+json": {
       "model_id": "01a2480dd3a746478d4297692f49e755",
       "version_major": 2,
       "version_minor": 0
      },
      "text/plain": [
       "FloatText(value=12.0, description='Annual Growth Rate (%):', style=DescriptionStyle(description_width='initial…"
      ]
     },
     "metadata": {},
     "output_type": "display_data"
    },
    {
     "data": {
      "application/vnd.jupyter.widget-view+json": {
       "model_id": "e50041ce0b994600ad21eaffe29b90ed",
       "version_major": 2,
       "version_minor": 0
      },
      "text/plain": [
       "FloatText(value=4.0, description='Growth Rate Std Dev (%):', style=DescriptionStyle(description_width='initial…"
      ]
     },
     "metadata": {},
     "output_type": "display_data"
    },
    {
     "data": {
      "application/vnd.jupyter.widget-view+json": {
       "model_id": "f3935a08e6f8458f9e083242f34fca05",
       "version_major": 2,
       "version_minor": 0
      },
      "text/plain": [
       "FloatText(value=6.5, description='Inflation Rate (%):', style=DescriptionStyle(description_width='initial'))"
      ]
     },
     "metadata": {},
     "output_type": "display_data"
    },
    {
     "data": {
      "application/vnd.jupyter.widget-view+json": {
       "model_id": "c3d481afb6064018a47b32825bfa3721",
       "version_major": 2,
       "version_minor": 0
      },
      "text/plain": [
       "FloatText(value=1.5, description='Inflation Rate Std Dev (%):', style=DescriptionStyle(description_width='init…"
      ]
     },
     "metadata": {},
     "output_type": "display_data"
    },
    {
     "data": {
      "application/vnd.jupyter.widget-view+json": {
       "model_id": "b1942ef97260436eab3f9d8d6c81d273",
       "version_major": 2,
       "version_minor": 0
      },
      "text/plain": [
       "Button(description='Calculate', style=ButtonStyle())"
      ]
     },
     "metadata": {},
     "output_type": "display_data"
    },
    {
     "data": {
      "application/vnd.jupyter.widget-view+json": {
       "model_id": "c2e1e4db633f4a82b3af832d9bb57190",
       "version_major": 2,
       "version_minor": 0
      },
      "text/plain": [
       "Output()"
      ]
     },
     "metadata": {},
     "output_type": "display_data"
    }
   ],
   "source": [
    "import numpy as np\n",
    "import ipywidgets as widgets\n",
    "from IPython.display import display, clear_output\n",
    "import matplotlib.pyplot as plt\n",
    "\n",
    "# Creating interactive widgets for dynamic input with adjusted layout and style\n",
    "style = {'description_width': 'initial'}  # Adjust the label width to fit the full description\n",
    "\n",
    "\n",
    "# Creating interactive widgets for dynamic input\n",
    "monthly_con = widgets.FloatText(value=40000, description='Monthly Contribution:', style=style)\n",
    "yearly_con = widgets.FloatText(value=480000, description='Yearly Contribution:', style=style)\n",
    "lump = widgets.FloatText(value=2500000, description='One time lump sum investment:', style=style)\n",
    "n_inv = widgets.IntText(value=20, description='Years of Investment:', style=style)\n",
    "percent_hike = widgets.FloatText(value=1.5, description='Percent Hike (%):', style=style)\n",
    "\n",
    "rate = widgets.FloatText(value=12, description='Annual Growth Rate (%):', style=style)\n",
    "rate_std = widgets.FloatText(value=4, description='Growth Rate Std Dev (%):', style=style)\n",
    "\n",
    "inf_rate = widgets.FloatText(value=6.5, description='Inflation Rate (%):', style=style)\n",
    "inf_rate_std = widgets.FloatText(value=1.5, description='Inflation Rate Std Dev (%):', style=style)\n",
    "\n",
    "\n",
    "# Output widget for displaying results\n",
    "output = widgets.Output()\n",
    "\n",
    "# Displaying widgets\n",
    "display( monthly_con, yearly_con, lump, n_inv, percent_hike, rate, rate_std, inf_rate, inf_rate_std)\n",
    "\n",
    "def calculate_investments( monthly_con, yearly_con, lump, n_inv, percent_hike, rate, rate_std, inf_rate, inf_rate_std):\n",
    "    with output:\n",
    "        clear_output(wait=True)\n",
    "        \n",
    "        monthly_SIP_corpus = []\n",
    "        yearly_SIP_corpus = []\n",
    "        lump_corpus = []\n",
    "        \n",
    "        # Generate random rates and inflation\n",
    "        rate_list = np.random.normal(rate, rate_std, n_inv)\n",
    "        rate_list_pm = (pow(1 + rate_list / 100, 1 / 12) - 1) * 100  # Changing percentage rate into per month\n",
    "        inf_rate_list = np.random.normal(inf_rate, inf_rate_std, n_inv)\n",
    "\n",
    "        print(\"Average inflation rate for this simulation is\", inf_rate_list.mean())\n",
    "        print(\"Average growth rate for this simulation is\", rate_list.mean())\n",
    "        print(\"\\n\")\n",
    "\n",
    "        total_M_SIP = 0\n",
    "        total_investment_M = 0\n",
    "        for i in range(n_inv):\n",
    "            monthly_con = monthly_con * (1 + percent_hike/100)\n",
    "\n",
    "            for j in range(12):\n",
    "                total_M_SIP = (total_M_SIP + monthly_con) * (1 + rate_list_pm[i] / 100)\n",
    "\n",
    "            total_investment_M = total_investment_M + monthly_con * 12\n",
    "            monthly_SIP_corpus.append(total_M_SIP)\n",
    "            \n",
    "        print('Total amount invested through monthly SIP-', total_investment_M)\n",
    "        print('Total amount in investments through monthly SIP -', total_M_SIP)\n",
    "        print('Latest monthly contribution -', monthly_con)\n",
    "        print(\"\\n\")\n",
    "        \n",
    "        \n",
    "        total_Y_SIP = 0\n",
    "        total_investment_Y =0\n",
    "        total_lump = 0\n",
    "        for i in range(n_inv):\n",
    "            \n",
    "            yearly_con = yearly_con * (1 + percent_hike/100)\n",
    "            \n",
    "            total_Y_SIP = (total_Y_SIP + yearly_con) * (1 + rate_list[i] / 100)\n",
    "            lump = lump*(1 + rate_list[i] / 100)\n",
    "            \n",
    "            total_investment_Y = total_investment_Y + yearly_con\n",
    "            yearly_SIP_corpus.append(total_Y_SIP)\n",
    "            lump_corpus.append(lump)\n",
    "            \n",
    "        print('Total amount invested through yearly SIP-', total_investment_Y)\n",
    "        print('Total amount in investments through yearly SIP -', total_Y_SIP)\n",
    "        print('Latest yearly contribution -', yearly_con)\n",
    "        print('\\nTotal amount in investments through lump growth -', lump)\n",
    "        \n",
    "        plt.plot(range(1,n_inv+1), monthly_SIP_corpus, label='Monthly')\n",
    "        plt.plot(range(1,n_inv+1), yearly_SIP_corpus, label='Yearly')\n",
    "        plt.plot(range(1,n_inv+1), lump_corpus, label='Lump')\n",
    "\n",
    "\n",
    "        # Adding labels and legend\n",
    "        plt.xlabel('X-axis')\n",
    "        plt.ylabel('Y-axis')\n",
    "        plt.legend()\n",
    "\n",
    "        # Show the plot\n",
    "        plt.show()\n",
    "\n",
    "# Button to execute the calculation\n",
    "calc_button = widgets.Button(description=\"Calculate\")\n",
    "\n",
    "def on_button_click(b):\n",
    "    calculate_investments(\n",
    "        monthly_con.value, yearly_con.value, lump.value, n_inv.value, percent_hike.value,\n",
    "        rate.value, rate_std.value, inf_rate.value, inf_rate_std.value\n",
    "    )\n",
    "\n",
    "calc_button.on_click(on_button_click)\n",
    "\n",
    "# Display button and output widget\n",
    "display(calc_button, output)\n"
   ]
  },
  {
   "cell_type": "code",
   "execution_count": null,
   "id": "06a73c6e",
   "metadata": {},
   "outputs": [],
   "source": []
  }
 ],
 "metadata": {
  "kernelspec": {
   "display_name": "Python 3 (ipykernel)",
   "language": "python",
   "name": "python3"
  },
  "language_info": {
   "codemirror_mode": {
    "name": "ipython",
    "version": 3
   },
   "file_extension": ".py",
   "mimetype": "text/x-python",
   "name": "python",
   "nbconvert_exporter": "python",
   "pygments_lexer": "ipython3",
   "version": "3.10.9"
  }
 },
 "nbformat": 4,
 "nbformat_minor": 5
}
